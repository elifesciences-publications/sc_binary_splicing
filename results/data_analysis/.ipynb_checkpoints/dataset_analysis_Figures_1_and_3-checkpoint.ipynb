{
 "cells": [
  {
   "cell_type": "code",
   "execution_count": 1,
   "metadata": {},
   "outputs": [],
   "source": [
    "import numpy as np\n",
    "import pandas as pd\n",
    "import os\n",
    "import matplotlib.cm as cm\n",
    "from matplotlib import pyplot as plt\n",
    "from scipy import stats as st\n",
    "import seaborn as sns\n",
    "\n",
    "from IPython.core.pylabtools import figsize\n",
    "\n",
    "import numpy.random as r\n",
    "from pylab import *\n",
    "from matplotlib.gridspec import GridSpec\n",
    "\n",
    "import sys\n",
    "sys.path.insert(0, '../../utils')\n",
    "import splicing_utils as spu\n",
    "import single_cell_plots as scp\n",
    "from single_cell_plots import *\n",
    "\n",
    "plt.rcParams[\"axes.edgecolor\"] = \"black\"\n",
    "plt.rcParams[\"axes.linewidth\"] = 1\n",
    "plt.rcParams[\"axes.facecolor\"] = 'white'\n",
    "\n",
    "import matplotlib as mpl\n",
    "import numpy as np\n",
    "from matplotlib import pyplot as plt\n",
    "\n",
    "mpl.rcParams[\"mathtext.fontset\"] = \"stix\"\n"
   ]
  },
  {
   "cell_type": "markdown",
   "metadata": {},
   "source": [
    "# Correlation between junction coverage and unimodality\n",
    "\n",
    "In this section we analyze the relationship between splicing junction read coverage and $\\Psi$ observations in several datasets. We found that in all datasets, exons with higher average read coverage also tend to show intermediate (not 0 or 1) $\\Psi$ values. This was observed in all datasets, although the proportion of unimodal exons is clearly higher in some datasets, than in others."
   ]
  },
  {
   "cell_type": "code",
   "execution_count": 2,
   "metadata": {},
   "outputs": [],
   "source": [
    "if not os.path.exists('plots'):\n",
    "    os.makedirs('plots')"
   ]
  },
  {
   "cell_type": "markdown",
   "metadata": {},
   "source": [
    "Load splicing junction read counts and calculate $\\Psi$"
   ]
  },
  {
   "cell_type": "code",
   "execution_count": null,
   "metadata": {},
   "outputs": [],
   "source": [
    "data_dir = '../../../data/'\n",
    "trapnell = spu.get_psi_table(data_dir+'trapnell/Trapnell_SJ_counts.tab', minJR=1, minCell=1, drop_duplicates = False)\n",
    "chen = spu.get_psi_table(data_dir+'chen/Chen_SJ_counts.tab', minJR=1, minCell=1, drop_duplicates = False)\n",
    "das = spu.get_psi_table(data_dir+'das/Das_SJ_counts.tab', minJR=1, minCell=1, drop_duplicates = False)\n",
    "song = spu.get_psi_table(data_dir+'song/Song_SJ_counts.tab', minJR=1, minCell=1, drop_duplicates = False)\n",
    "lescroart = spu.get_psi_table(data_dir+'lescroart/Lescroart_SJ_counts.tab', minJR=1, minCell=1, drop_duplicates = False)"
   ]
  },
  {
   "cell_type": "markdown",
   "metadata": {},
   "source": [
    "For each exon, we observe the proportion of cells that present different ranges of $\\Psi$ values (histogram of $\\Psi$ for each exon)."
   ]
  },
  {
   "cell_type": "code",
   "execution_count": null,
   "metadata": {},
   "outputs": [],
   "source": [
    "chen_hist_complete, chen_hist_intermediate = scp.get_bins_table(chen[3], chen[4])\n",
    "trapnell_hist_complete, trapnell_hist_intermediate = scp.get_bins_table(trapnell[3], trapnell[4])\n",
    "song_hist_complete, song_hist_intermediate = scp.get_bins_table(song[3], song[4])\n",
    "das_hist_complete, das_hist_intermediate = scp.get_bins_table(das[3], das[4])\n",
    "lescroart_hist_complete, lescroart_hist_intermediate = scp.get_bins_table(lescroart[3], lescroart[4])"
   ]
  },
  {
   "cell_type": "markdown",
   "metadata": {},
   "source": [
    "These plots show the distribution of the observed $\\Psi$ for each intermediate cassette exon in five datasets. Intermediate cassette exons are defines as having $0.2 \\leq \\mu(\\Psi) \\leq 0.8$.\n",
    "\n",
    "Each row correspond to one exon. The intensity of color represents how many cells present a $\\Psi$ for each bin (0-0.05, 0.05-0.10,..., 0.95-1.0). Exons are ordered by the number of splicing junction reads detected in each dataset. There is not a necessary correspondance of exon and rows between datasets."
   ]
  },
  {
   "cell_type": "code",
   "execution_count": null,
   "metadata": {},
   "outputs": [],
   "source": [
    "import importlib\n",
    "importlib.reload(scp)\n",
    "importlib.reload(spu)\n",
    "sns.reset_orig()\n",
    "mpl.rcParams[\"mathtext.fontset\"] = \"stix\"\n",
    "\n",
    "hist_list = [chen_hist_intermediate, lescroart_hist_intermediate, trapnell_hist_intermediate,\n",
    "             song_hist_intermediate, das_hist_intermediate]\n",
    "\n",
    "dset_name_list = ['Chen', 'Lescroart', 'Trapnell', 'Song', 'Das']\n",
    "\n",
    "\n",
    "scp.plot_histograms(hist_list, dset_name_list, fig_len=10, fig_height = 10, ypos1=0.025, ypos2 = 0.625,\n",
    "                    plot_dir = 'plots/figure1/', plot_name = 'PSI_distributions',\n",
    "                    plot_title = \"\", \n",
    "                    ylab='Exons ranked by junction reads', ls=18, sk=1.65, tfs=20)\n",
    "\n",
    "plt.show()"
   ]
  },
  {
   "cell_type": "markdown",
   "metadata": {},
   "source": [
    "## Top covered exons present more unimodality\n",
    "\n",
    "Close up to the 300 most covered exons in each dataset."
   ]
  },
  {
   "cell_type": "code",
   "execution_count": null,
   "metadata": {},
   "outputs": [],
   "source": [
    "hist_list_300 = [x.loc[x.index[-300:]] for x in hist_list]\n",
    "#scp.plot_histograms(hist_list_300, dset_name_list,fig_len=15, plot_name = 'PSI_distributions_top300')\n",
    "\n",
    "scp.plot_histograms(hist_list_300, dset_name_list, fig_len=10, fig_height = 10, ypos1=0.025, ypos2 = 0.625,\n",
    "                    plot_dir = 'plots/analysis_1/', plot_name = 'PSI_distributions_top300',\n",
    "                    plot_title = \"\", \n",
    "                    ylab='Exons ranked by junction reads', ls=18, sk=1.65, tfs=20)\n",
    "\n",
    "plt.show()"
   ]
  },
  {
   "cell_type": "markdown",
   "metadata": {},
   "source": [
    "## Cells with higher coverage\n",
    "\n",
    "Similar concept as the previous plots. For each row (exon), we only consider the distribution of $\\Psi$ in the cells with the top 0.5 quantile splicing junction read counts."
   ]
  },
  {
   "cell_type": "code",
   "execution_count": null,
   "metadata": {},
   "outputs": [],
   "source": [
    "chen_counts, chen_psi = spu.best_cells(chen[4], chen[3])\n",
    "song_counts, song_psi = spu.best_cells(song[4], song[3])\n",
    "das_counts, das_psi = spu.best_cells(das[4], das[3])\n",
    "lescroart_counts, lescroart_psi = spu.best_cells(lescroart[4], lescroart[3])\n",
    "trapnell_counts, trapnell_psi = spu.best_cells(trapnell[4], trapnell[3])\n",
    "\n",
    "chen_hist_complete, chen_hist_intermediate = scp.get_bins_table(chen_psi.T, chen_counts.T)\n",
    "song_hist_complete, song_hist_intermediate = scp.get_bins_table(song_psi.T, song_counts.T)\n",
    "das_hist_complete, das_hist_intermediate = scp.get_bins_table(das_psi.T, das_counts.T)\n",
    "lescroart_hist_complete, lescroart_hist_intermediate = scp.get_bins_table(lescroart_psi.T, lescroart_counts.T)\n",
    "trapnell_hist_complete, trapnell_hist_intermediate = scp.get_bins_table(trapnell_psi.T, trapnell_counts.T)\n",
    "\n",
    "hist_list = [chen_hist_intermediate, lescroart_hist_intermediate, trapnell_hist_intermediate,\n",
    "             song_hist_intermediate, das_hist_intermediate]\n",
    "\n",
    "dset_name_list = ['Chen', 'Lescroart', 'Trapnell', 'Song', 'Das']\n",
    "\n",
    "scp.plot_histograms(hist_list, dset_name_list, fig_len=10, fig_height = 10, ypos1=0.025, ypos2 = 0.625,\n",
    "                    plot_dir = 'plots/analysis_1/', plot_name = 'PSI_distributions_topCells',\n",
    "                    plot_title = \"\", \n",
    "                    ylab='Exons ranked by junction reads', ls=18, sk=1.65, tfs=20)"
   ]
  },
  {
   "cell_type": "code",
   "execution_count": null,
   "metadata": {},
   "outputs": [],
   "source": [
    "hist_list_300 = [x.loc[x.index[-300:]] for x in hist_list]\n",
    "\n",
    "#dset_name_list = ['Chen', 'Lescroart', 'Song', 'Treutlein', 'Das', 'Falcao', 'Friedman', 'Gao']\n",
    "\n",
    "#plot_histograms(hist_list_300, dset_name_list,fig_len=15, plot_name = 'PSI_distributions_topCells_300')\n",
    "\n",
    "\n",
    "scp.plot_histograms(hist_list_300, dset_name_list, fig_len=10, fig_height = 10, ypos1=0.025, ypos2 = 0.625,\n",
    "                    plot_dir = 'plots/analysis_1/', plot_name = 'PSI_distributions_topCells_top300',\n",
    "                    plot_title = \"\", \n",
    "                    ylab='Exons ranked by junction reads', ls=18, sk=1.65, tfs=20)"
   ]
  },
  {
   "cell_type": "markdown",
   "metadata": {},
   "source": [
    "# Individual events shown in Figure 1"
   ]
  },
  {
   "cell_type": "code",
   "execution_count": null,
   "metadata": {},
   "outputs": [],
   "source": [
    "scp.plot_event(chen[3], chen[4], 'chen', 'Cadm1_2', xtags = [1, 10, 100, 1000], tag_pos = 0.1,\n",
    "               plot_dir = 'plots/analysis_2/individual_events/', just_show=True)"
   ]
  }
 ],
 "metadata": {
  "kernelspec": {
   "display_name": "Python 3",
   "language": "python",
   "name": "python3"
  },
  "language_info": {
   "codemirror_mode": {
    "name": "ipython",
    "version": 3
   },
   "file_extension": ".py",
   "mimetype": "text/x-python",
   "name": "python",
   "nbconvert_exporter": "python",
   "pygments_lexer": "ipython3",
   "version": "3.6.4"
  }
 },
 "nbformat": 4,
 "nbformat_minor": 2
}
