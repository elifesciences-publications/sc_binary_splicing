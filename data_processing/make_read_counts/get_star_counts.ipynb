{
 "cells": [
  {
   "cell_type": "code",
   "execution_count": 2,
   "metadata": {},
   "outputs": [],
   "source": [
    "import numpy as np\n",
    "import pandas as pd\n",
    "import subprocess as sp\n",
    "import os"
   ]
  },
  {
   "cell_type": "code",
   "execution_count": 21,
   "metadata": {},
   "outputs": [],
   "source": [
    "star_dir = '/mnt/lareaulab/cfbuenabadn/RNASeq/Mouse/ChenRNASeq/STAR_pipeline/'\n",
    "samples = os.listdir(star_dir)\n",
    "rcounts_tab = pd.DataFrame()\n",
    "\n",
    "for sample in samples:\n",
    "    star_tab = pd.read_csv(star_dir + sample + '/star_output/ReadsPerGene.out.tab', \n",
    "                           names = ['no_specific', 'first_strand', 'reverse_strand'],\n",
    "                           sep='\\t', index_col=0, skiprows=4)\n",
    "    \n",
    "    rcounts_tab[sample] = star_tab.no_specific\n",
    "    \n",
    "\n",
    "rcounts_tab.index = [x.split('.')[0] for x in rcounts_tab.index]\n",
    "    \n"
   ]
  },
  {
   "cell_type": "code",
   "execution_count": 22,
   "metadata": {},
   "outputs": [],
   "source": [
    "rcounts_tab.to_csv('chen.star.counts.tab', sep='\\t', header=True, index=True)"
   ]
  },
  {
   "cell_type": "code",
   "execution_count": null,
   "metadata": {},
   "outputs": [],
   "source": []
  }
 ],
 "metadata": {
  "kernelspec": {
   "display_name": "Python 3",
   "language": "python",
   "name": "python3"
  },
  "language_info": {
   "codemirror_mode": {
    "name": "ipython",
    "version": 3
   },
   "file_extension": ".py",
   "mimetype": "text/x-python",
   "name": "python",
   "nbconvert_exporter": "python",
   "pygments_lexer": "ipython3",
   "version": "3.7.2"
  }
 },
 "nbformat": 4,
 "nbformat_minor": 2
}
