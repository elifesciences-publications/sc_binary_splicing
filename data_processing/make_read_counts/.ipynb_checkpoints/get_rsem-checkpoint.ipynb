{
 "cells": [
  {
   "cell_type": "code",
   "execution_count": 1,
   "metadata": {},
   "outputs": [],
   "source": [
    "import numpy as np\n",
    "import pandas as pd\n",
    "import subprocess as sp\n",
    "import os\n",
    "from scipy.stats import zscore\n",
    "import seaborn as sb\n",
    "import matplotlib.cm as cm\n",
    "from sklearn.neighbors import NearestNeighbors\n",
    "from sklearn.cluster import KMeans\n",
    "from matplotlib import pyplot as plt\n",
    "from collections import Counter\n",
    "\n",
    "\n",
    "plt.rcParams[\"axes.edgecolor\"] = \"black\"\n",
    "plt.rcParams[\"axes.linewidth\"] = 1\n",
    "plt.rcParams[\"axes.facecolor\"] = 'white'"
   ]
  },
  {
   "cell_type": "code",
   "execution_count": 3,
   "metadata": {},
   "outputs": [
    {
     "name": "stderr",
     "output_type": "stream",
     "text": [
      "/mnt/lareaulab/cfbuenabadn/anaconda3/lib/python3.7/site-packages/ipykernel_launcher.py:7: FutureWarning: read_table is deprecated, use read_csv instead, passing sep='\\t'.\n",
      "  import sys\n"
     ]
    }
   ],
   "source": [
    "# rsem_dir = '/mnt/lareaulab/cfbuenabadn/RNASeq/Mouse/ChenRNASeq/gene_expression/ChenRSEM/'\n",
    "# location to RSEM output files\n",
    "samples = os.listdir(rsem_dir)\n",
    "tpm_tab = pd.DataFrame()\n",
    "rcount_tab = pd.DataFrame()\n",
    "\n",
    "for sample in samples:\n",
    "    rsem_tab = pd.read_csv(rsem_dir + sample + '/rsem_output/rsem_output.genes.results', index_col=0, sep='\\t')\n",
    "    tpm_tab[sample] = rsem_tab.TPM\n",
    "    tpm_tab.index = rsem_tab.index\n",
    "    \n",
    "    rcount_tab[sample] = rsem_tab.expected_count\n",
    "    rcount_tab.index = rsem_tab.index\n",
    "    \n",
    "\n"
   ]
  },
  {
   "cell_type": "code",
   "execution_count": 4,
   "metadata": {},
   "outputs": [],
   "source": [
    "#tpm_tab.index = [x.split('.')[0] for x in tpm_tab.index]\n",
    "#rcount_tab.index = [x.split('.')[0] for x in rcount_tab.index]\n",
    "\n",
    "tpm_tab = tpm_tab[sorted(tpm_tab.columns)]\n",
    "rcount_tab = rcount_tab[sorted(rcount_tab.columns)]\n",
    "\n",
    "tpm_tab = tpm_tab.sort_index()\n",
    "rcount_tab = rcount_tab.sort_index()"
   ]
  },
  {
   "cell_type": "code",
   "execution_count": 15,
   "metadata": {},
   "outputs": [],
   "source": [
    "tpm_tab.index = [x.split('.')[0] for x in tpm_tab.index]\n",
    "rcount_tab.index = [x.split('.')[0] for x in rcount_tab.index]"
   ]
  },
  {
   "cell_type": "code",
   "execution_count": 16,
   "metadata": {},
   "outputs": [],
   "source": [
    "tpm_tab.to_csv('chen_rsem_tpm.tab', sep='\\t', header=True, index=True)\n",
    "rcount_tab.to_csv('chen_rsem_count.tab', sep='\\t', header=True, index=True)"
   ]
  },
  {
   "cell_type": "code",
   "execution_count": 26,
   "metadata": {},
   "outputs": [],
   "source": [
    "table = rcount_tab\n",
    "mm10_mart = pd.read_csv('mm10.ensembl_gene_symbols.tab', sep='\\t', index_col=0)\n",
    "mm10_clean = mm10_mart.drop_duplicates()\n",
    "mm10_clean = mm10_clean.groupby(mm10_clean.index).first()\n",
    "\n",
    "good_genes = [x for x in table.index if x in mm10_clean.index]\n",
    "table_filtered = table.loc[good_genes]\n",
    "table_filtered.index = mm10_clean.loc[good_genes].mgi_symbol\n",
    "\n",
    "table_filtered.to_csv('chen.rsemCounts.gene_symbols.tab', sep='\\t', header=True, index=True)"
   ]
  },
  {
   "cell_type": "code",
   "execution_count": 27,
   "metadata": {},
   "outputs": [],
   "source": [
    "\n",
    "table = pd.DataFrame()\n",
    "for sample in samples:\n",
    "    tabla = pd.read_csv(os.path.join(reads_dir,sample, 'rsem_output/rsem_output.genes.results'), sep = '\\t', index_col=0)\n",
    "    table[sample] = tabla['effective_length']\n",
    "\n",
    "    \n",
    "table.index = [x.split('.')[0] for x in table.index]\n",
    "mm10_mart = pd.read_csv('Gencode/mm10.ensembl_gene_symbols.tab', sep='\\t', index_col=0)\n",
    "mm10_clean = mm10_mart.drop_duplicates()\n",
    "mm10_clean = mm10_clean.groupby(mm10_clean.index).first()\n",
    "\n",
    "good_genes = [x for x in table.index if x in mm10_clean.index]\n",
    "table_filtered = table.loc[good_genes]\n",
    "table_filtered.index = mm10_clean.loc[good_genes].mgi_symbol\n",
    "\n",
    "table_filtered.to_csv('chen.effective_length.gene_symbols.tab', sep='\\t', header=True, index=True)"
   ]
  },
  {
   "cell_type": "code",
   "execution_count": 2,
   "metadata": {},
   "outputs": [],
   "source": [
    "table = pd.read_csv('chen_rsem_tpm.tab', sep='\\t', index_col = 0)"
   ]
  },
  {
   "cell_type": "code",
   "execution_count": 4,
   "metadata": {},
   "outputs": [],
   "source": [
    "mm10_mart = pd.read_csv('mm10.ensembl_gene_symbols.tab', sep='\\t', index_col=0)\n",
    "mm10_clean = mm10_mart.drop_duplicates()\n",
    "mm10_clean = mm10_clean.groupby(mm10_clean.index).first()\n",
    "\n",
    "good_genes = [x for x in table.index if x in mm10_clean.index]\n",
    "table_filtered = table.loc[good_genes]\n",
    "table_filtered.index = mm10_clean.loc[good_genes].mgi_symbol"
   ]
  },
  {
   "cell_type": "code",
   "execution_count": 8,
   "metadata": {},
   "outputs": [],
   "source": [
    "table_filtered.to_csv('chen.tpm.gene_symbols.tab', sep='\\t', header=True, index=True)"
   ]
  },
  {
   "cell_type": "code",
   "execution_count": null,
   "metadata": {},
   "outputs": [],
   "source": []
  }
 ],
 "metadata": {
  "kernelspec": {
   "display_name": "Python 3",
   "language": "python",
   "name": "python3"
  },
  "language_info": {
   "codemirror_mode": {
    "name": "ipython",
    "version": 3
   },
   "file_extension": ".py",
   "mimetype": "text/x-python",
   "name": "python",
   "nbconvert_exporter": "python",
   "pygments_lexer": "ipython3",
   "version": "3.6.4"
  }
 },
 "nbformat": 4,
 "nbformat_minor": 2
}
