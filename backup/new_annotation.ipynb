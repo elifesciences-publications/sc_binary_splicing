{
 "cells": [
  {
   "cell_type": "code",
   "execution_count": 2,
   "metadata": {},
   "outputs": [],
   "source": [
    "import numpy as np\n",
    "import pandas as pd\n",
    "import os\n",
    "import matplotlib.cm as cm\n",
    "from matplotlib import pyplot as plt\n",
    "from scipy import stats as st\n",
    "import seaborn as sns\n",
    "\n",
    "from IPython.core.pylabtools import figsize\n",
    "\n",
    "import numpy.random as r\n",
    "from pylab import *\n",
    "from matplotlib.gridspec import GridSpec\n",
    "\n",
    "import sys\n",
    "sys.path.insert(0, '../../utils')\n",
    "import splicing_utils as spu\n",
    "import single_cell_plots as scp\n",
    "from single_cell_plots import *\n",
    "\n",
    "plt.rcParams[\"axes.edgecolor\"] = \"black\"\n",
    "plt.rcParams[\"axes.linewidth\"] = 1\n",
    "plt.rcParams[\"axes.facecolor\"] = 'white'\n",
    "\n",
    "import matplotlib as mpl\n",
    "import numpy as np\n",
    "from matplotlib import pyplot as plt\n",
    "\n",
    "mpl.rcParams[\"mathtext.fontset\"] = \"stix\"\n"
   ]
  },
  {
   "cell_type": "code",
   "execution_count": 3,
   "metadata": {},
   "outputs": [],
   "source": [
    "data_dir = '../../../data/' # adjust to the proper directory\n",
    "#trapnell = spu.get_psi_table(data_dir+'trapnell/Trapnell_SJ_counts_all.tab', minJR=1, minCell=1, drop_duplicates = False)\n",
    "chen = spu.get_psi_table('chen_SJ_counts_new_annotation.tab', minJR=1, minCell=1, drop_duplicates = False)\n",
    "# das = spu.get_psi_table('das_SJ_counts_new_annotation.tab', minJR=1, minCell=1, drop_duplicates = False)\n",
    "#song = spu.get_psi_table(data_dir+'song/Song_SJ_counts.tab', minJR=1, minCell=1, drop_duplicates = False)\n",
    "# lescroart = spu.get_psi_table('lescroart_SJ_counts_new_annotation.tab', minJR=1, minCell=1, drop_duplicates = False)"
   ]
  },
  {
   "cell_type": "code",
   "execution_count": 4,
   "metadata": {},
   "outputs": [],
   "source": [
    "# shalek = spu.get_psi_table('shalek_SJ_counts_new_annotation.tab', minJR=1, minCell=1, drop_duplicates = False)"
   ]
  },
  {
   "cell_type": "code",
   "execution_count": 5,
   "metadata": {},
   "outputs": [],
   "source": [
    "chen_meta_pseudotime = pd.read_csv('../../../data/chen/chen.meta_pseudotime.tab', sep='\\t', index_col=0)\n",
    "ES2i = chen_meta_pseudotime.index[chen_meta_pseudotime.cell_type == 'ES2i']\n",
    "ES = chen_meta_pseudotime.index[chen_meta_pseudotime.cell_type == 'ES']\n",
    "Epi = chen_meta_pseudotime.index[chen_meta_pseudotime.cell_type == 'Epi']\n",
    "MN = chen_meta_pseudotime.index[chen_meta_pseudotime.cell_type == 'Motor neuron']\n",
    "bio = list(ES2i) + list(ES) + list(Epi) + list(MN)\n",
    "chen_PSI = chen[3][bio]\n",
    "chen_read_counts = chen[4][bio]\n",
    "chen_tpm_tab = pd.read_csv('../../../data/chen/chen.tpm.gene_symbols.tab', sep='\\t', index_col=0)[bio]\n",
    "chen_star_tab = pd.read_csv('../../../data/chen/chen.star.counts.tab', sep='\\t', index_col=0)[bio]\n",
    "chen_rsem_tab = pd.read_csv('../../../data/chen/chen.rsemCounts.gene_symbols.tab', sep='\\t', index_col=0)[bio]\n",
    "chen_el = pd.read_csv('../../../data/chen/chen.effective_length.gene_symbols.tab', sep='\\t', index_col=0)[bio]\n",
    "crpm_chen = pd.read_csv('../../../data/chen/chen_sr_score.tab', sep='\\t', index_col = 0)[bio]\n",
    "chen_mrna_counts = pd.read_csv('../../../data/chen/chen_mrna_counts.tab', sep='\\t', index_col=0)[bio]\n",
    "chen_rsem_tab = pd.read_csv('../../../data/chen/chen.rsemCounts.gene_symbols.tab', sep='\\t', index_col=0)\n",
    "\n",
    "###############################\n",
    "\n",
    "# lescroart_PSI = lescroart[3]\n",
    "# lescroart_read_counts = lescroart[4]\n",
    "# lescroart_bio = lescroart_PSI.columns\n",
    "# lescroart_tpm_tab = pd.read_csv('../../../data/lescroart/Lescroart.tpm.gene_symbols.tab', sep='\\t', index_col=0)[lescroart_bio]\n",
    "# lescroart_star_tab = pd.read_csv('../../../data/lescroart/Lescroart.star.counts.tab', sep='\\t', index_col=0)[lescroart_bio]\n",
    "# lescroart_rsem_tab = pd.read_csv('../../../data/lescroart/Lescroart.rsemCounts.gene_symbols.tab', sep='\\t', index_col=0)[lescroart_bio]\n",
    "# lescroart_el = pd.read_csv('../../../data/lescroart/Lescroart.effective_length.gene_symbols.tab', sep='\\t', index_col=0)[lescroart_bio]\n",
    "# crpm_lescroart = pd.read_csv('../../../data/lescroart/lescroart_sr_score.tab', sep='\\t', index_col = 0)\n",
    "# lescroart_mrna_counts = pd.read_csv('../../../data/lescroart/lescroart_mrna_counts.tab', sep='\\t', index_col=0)\n",
    "# lescroart_mrna_counts = pd.read_csv('../../../data/lescroart/lescroart_mrna_counts.tab', sep='\\t', index_col=0)\n",
    "\n",
    "\n",
    "\n",
    "# das_PSI = das[3]\n",
    "# das_read_counts = das[4]\n",
    "# das_bio = das_PSI.columns\n",
    "# das_tpm_tab = pd.read_csv('../../../data/das/das.tpm.gene_symbols.tab', sep='\\t', index_col=0)[das_bio]\n",
    "# das_star_tab = pd.read_csv('../../../data/das/das.star.counts.tab', sep='\\t', index_col=0)[das_bio]\n",
    "# das_rsem_tab = pd.read_csv('../../../data/das/Das.rsemCounts.gene_symbols.tab', sep='\\t', index_col=0)[das_bio]\n",
    "# das_el = pd.read_csv('../../../data/das/Das.effective_length.gene_symbols.tab', sep='\\t', index_col=0)[das_bio]\n",
    "# crpm_das = pd.read_csv('../../../data/das/das_sr_score.tab', sep='\\t', index_col = 0)\n",
    "# das_mrna_counts = pd.read_csv('../../../data/das/das_mrna_counts.tab', sep='\\t', index_col=0)"
   ]
  },
  {
   "cell_type": "code",
   "execution_count": 6,
   "metadata": {},
   "outputs": [],
   "source": [
    "# shalek_PSI = shalek[3]\n",
    "# shalek_read_counts = shalek[4]\n",
    "# shalek_bio = shalek_PSI.columns\n",
    "# shalek_tpm_tab = pd.read_csv('shalek.tpm.gene_symbols.tab', sep='\\t', index_col=0)\n",
    "# shalek_rsem_tab = pd.read_csv('shalek.rsemCounts.gene_symbols.tab', sep='\\t', index_col=0)\n",
    "# shalek_el = pd.read_csv('shalek.effective_length.gene_symbols.tab', sep='\\t', index_col=0)"
   ]
  },
  {
   "cell_type": "code",
   "execution_count": 7,
   "metadata": {},
   "outputs": [],
   "source": [
    "# chen_hist_complete, chen_hist_intermediate = scp.get_bins_table(chen_PSI, chen_read_counts)\n",
    "# shalek_hist_complete, shalek_hist_intermediate = scp.get_bins_table(shalek_PSI, shalek_read_counts)\n",
    "# das_hist_complete, das_hist_intermediate = scp.get_bins_table(das_PSI, das_read_counts)\n",
    "# lescroart_hist_complete, lescroart_hist_intermediate = scp.get_bins_table(lescroart_PSI, lescroart_read_counts)"
   ]
  },
  {
   "cell_type": "code",
   "execution_count": 8,
   "metadata": {
    "scrolled": true
   },
   "outputs": [],
   "source": [
    "# import importlib\n",
    "# importlib.reload(scp)\n",
    "# importlib.reload(spu)\n",
    "# sns.reset_orig()\n",
    "# mpl.rcParams[\"mathtext.fontset\"] = \"stix\"\n",
    "\n",
    "# hist_list = [chen_hist_intermediate, lescroart_hist_intermediate, das_hist_intermediate, shalek_hist_intermediate]\n",
    "\n",
    "# dset_name_list = ['Chen', 'Lescroart', 'Fletcher', 'Shalek']\n",
    "\n",
    "\n",
    "# scp.plot_histograms(hist_list, dset_name_list, fig_len=10, fig_height = 10, ypos1=0.025, ypos2 = 0.625,\n",
    "#                     plot_dir = 'plots/figure1/', plot_name = 'PSI_distributions_new_annotation',\n",
    "#                     plot_title = \"\", \n",
    "#                     ylab='Exons ranked by junction reads', ls=18, sk=1.65, tfs=20)\n",
    "\n",
    "# plt.show()"
   ]
  },
  {
   "cell_type": "code",
   "execution_count": 9,
   "metadata": {
    "scrolled": true
   },
   "outputs": [],
   "source": [
    "# hist_list_300 = [x.loc[x.index[-300:]] for x in hist_list]\n",
    "# #scp.plot_histograms(hist_list_300, dset_name_list,fig_len=15, plot_name = 'PSI_distributions_top300')\n",
    "\n",
    "# scp.plot_histograms(hist_list_300, dset_name_list, fig_len=10, fig_height = 10, ypos1=0.025, ypos2 = 0.625,\n",
    "#                     plot_dir = 'plots/figure1/', plot_name = 'PSI_distributions_top300_new_annotation',\n",
    "#                     plot_title = \"\", \n",
    "#                     ylab='Exons ranked by junction reads', ls=18, sk=1.65, tfs=20)\n",
    "\n",
    "# plt.show()"
   ]
  },
  {
   "cell_type": "code",
   "execution_count": 10,
   "metadata": {},
   "outputs": [],
   "source": [
    "# import importlib\n",
    "# importlib.reload(scp)\n",
    "# importlib.reload(spu)\n",
    "# sns.reset_orig()\n",
    "# mpl.rcParams[\"mathtext.fontset\"] = \"stix\"\n",
    "\n",
    "# figsize(13, 12)\n",
    "\n",
    "\n",
    "# xlocations=[0, 1, 10, 100, 1000, 10000]\n",
    "\n",
    "# scp.plot_ase_expression_v_binary(shalek[3], shalek[4], 'Shalek', 'shalek_all_exons', xlocations=xlocations,\n",
    "#                                  xlabel='average SJ reads in exon', \n",
    "#                               plot_dir = 'plots/figure1/', just_show=False)\n",
    "# plt.show()"
   ]
  },
  {
   "cell_type": "code",
   "execution_count": 11,
   "metadata": {},
   "outputs": [],
   "source": [
    "# filtro = (shalek[3].mean(axis=1) >=0.2) & (shalek[3].mean(axis=1) <=0.8)\n",
    "# pr_bar2 = scp.plot_ase_expression_v_binary(shalek[3].loc[filtro], shalek[4].loc[filtro], 'Shalek', \n",
    "#                                                 'shalek_intermediate', \n",
    "#                               plot_dir = 'plots/figure1/', just_show=False)"
   ]
  },
  {
   "cell_type": "code",
   "execution_count": 12,
   "metadata": {},
   "outputs": [],
   "source": [
    "# pr_bar2"
   ]
  },
  {
   "cell_type": "code",
   "execution_count": 13,
   "metadata": {},
   "outputs": [],
   "source": [
    "# xlocations = [1, 10, 100, 1000, 10000]\n",
    "# xtags = ['0', '1', '2', '3', '4']\n",
    "# filtro = (shalek[3].mean(axis=1) >=0.2) & (shalek[3].mean(axis=1) <=0.8)\n",
    "# scp.plot_cell_expression_v_binary(shalek[3].loc[filtro], shalek[4].loc[filtro], 'Shalek', \n",
    "#                                                 'shalek_intermediate', xlocations=xlocations, \n",
    "#                                                 xlabel='log10 of total SJ reads in cell', xtags=xtags,\n",
    "#                               plot_dir = 'plots/figure1/', just_show=False, xlim=(0, 5), r_pos=1)\n",
    "\n",
    "# plt.show()"
   ]
  },
  {
   "cell_type": "code",
   "execution_count": 14,
   "metadata": {},
   "outputs": [],
   "source": [
    "# shalek_tpm_tab = pd.read_csv('shalek.tpm.gene_symbols.tab', sep='\\t', index_col=0)\n",
    "# shalek_rsem_tab = pd.read_csv('shalek.rsemCounts.gene_symbols.tab', sep='\\t', index_col=0)\n",
    "# shalek_el = pd.read_csv('shalek.effective_length.gene_symbols.tab', sep='\\t', index_col=0)"
   ]
  },
  {
   "cell_type": "code",
   "execution_count": 15,
   "metadata": {},
   "outputs": [],
   "source": [
    "# shalek_mrna_counts = spu.transform_tpm_to_counts(shalek_tpm_tab, plot_hist = False, correct_high = True)"
   ]
  },
  {
   "cell_type": "code",
   "execution_count": 16,
   "metadata": {},
   "outputs": [],
   "source": [
    "# shalek_mrna_counts.sum().max()"
   ]
  },
  {
   "cell_type": "code",
   "execution_count": 52,
   "metadata": {},
   "outputs": [],
   "source": [
    "# lescroart_common_genes = [gene for gene in lescroart_rsem_tab.index if ((gene in lescroart_mrna_counts.index) & (gene in lescroart_el.index))]\n",
    "# lescroart_cells = lescroart_mrna_counts.columns\n",
    "# lescroart_counts_tab = lescroart_rsem_tab.loc[lescroart_common_genes, lescroart_cells]\n",
    "# lescroart_mrna_tab = lescroart_mrna_counts.loc[lescroart_common_genes, lescroart_cells]\n",
    "# lescroart_el_tab = lescroart_el.loc[lescroart_common_genes, lescroart_cells]\n",
    "\n",
    "chen_common_genes = [gene for gene in chen_rsem_tab.index if ((gene in chen_mrna_counts.index) & (gene in chen_el.index))]\n",
    "chen_cells = chen_mrna_counts.columns\n",
    "chen_counts_tab = chen_rsem_tab.loc[chen_common_genes, chen_cells]\n",
    "chen_mrna_tab = chen_mrna_counts.loc[chen_common_genes, chen_cells]\n",
    "chen_el_tab = chen_el.loc[chen_common_genes, chen_cells]\n",
    "\n",
    "# das_common_genes = [gene for gene in das_rsem_tab.index if ((gene in das_mrna_counts.index) & (gene in das_el.index))]\n",
    "# das_cells = das_mrna_counts.columns\n",
    "# das_counts_tab = das_rsem_tab.loc[das_common_genes, das_cells]\n",
    "# das_mrna_tab = das_mrna_counts.loc[das_common_genes, das_cells]\n",
    "# das_el_tab = das_el.loc[das_common_genes, das_cells]"
   ]
  },
  {
   "cell_type": "code",
   "execution_count": 59,
   "metadata": {},
   "outputs": [],
   "source": [
    "chen_len = 43\n",
    "# lescroart_len = lescroart_srat.loc[lescroart_cells, 'AvgSpotLen']\n",
    "# das_len = das_srat.loc[das_cells, 'AvgSpotLen']\n"
   ]
  },
  {
   "cell_type": "code",
   "execution_count": 60,
   "metadata": {},
   "outputs": [],
   "source": [
    "# lescroart_c = ((lescroart_counts_tab*(lescroart_mrna_tab > 0)*lescroart_len).sum()/(lescroart_mrna_tab*lescroart_el_tab).sum())\n",
    "chen_c = ((chen_counts_tab*(chen_mrna_tab > 0)*chen_len).sum()/(chen_mrna_tab*chen_el_tab).sum())\n",
    "# das_c = ((das_counts_tab*(das_mrna_tab > 0)*das_len).sum()/(das_mrna_tab*das_el_tab).sum())"
   ]
  },
  {
   "cell_type": "code",
   "execution_count": 61,
   "metadata": {},
   "outputs": [
    {
     "name": "stderr",
     "output_type": "stream",
     "text": [
      "/home/cfbuenabadn/anaconda3/lib/python3.6/site-packages/ipykernel_launcher.py:2: FutureWarning: \n",
      "Passing list-likes to .loc or [] with any missing label will raise\n",
      "KeyError in the future, you can use .reindex() as an alternative.\n",
      "\n",
      "See the documentation here:\n",
      "http://pandas.pydata.org/pandas-docs/stable/indexing.html#deprecate-loc-reindex-listlike\n",
      "  \n"
     ]
    }
   ],
   "source": [
    "# #chen_SR = (crpm_chen/chen_c)[chen_cells]\n",
    "mrna_per_event_chen = chen_mrna_counts.loc[[x.split('_')[0] for x in chen_PSI.index]]\n",
    "mrna_per_event_chen.index = chen_PSI.index\n",
    "\n",
    "# #lescroart_SR = (crpm_lescroart/lescroart_c)[lescroart_cells]\n",
    "# mrna_per_event_lescroart = lescroart_mrna_counts.loc[[x.split('_')[0] for x in lescroart_PSI.index]][lescroart_cells]\n",
    "# mrna_per_event_lescroart.index = lescroart_PSI.index\n",
    "\n",
    "# mrna_per_event_das = das_mrna_counts.loc[[x.split('_')[0] for x in das_PSI.index]]\n",
    "# mrna_per_event_das.index = das_PSI.index"
   ]
  },
  {
   "cell_type": "code",
   "execution_count": 62,
   "metadata": {},
   "outputs": [],
   "source": [
    "chen_int_genes, chen_int_exons = spu.get_int_events(chen_PSI, chen_mrna_counts, 0.05)\n",
    "chen_int_exons = [x for x in chen_int_exons if x in mrna_per_event_chen.index]\n",
    "\n",
    "# das_int_genes, das_int_exons = spu.get_int_events(das_PSI, das_mrna_counts, 0.05)\n",
    "# das_int_exons = [x for x in das_int_exons if x in mrna_per_event_das.index]\n",
    "\n",
    "# lescroart_int_genes, lescroart_int_exons = spu.get_int_events(lescroart_PSI, lescroart_mrna_counts, 0.05)\n",
    "# lescroart_int_exons = [x for x in lescroart_int_exons if x in mrna_per_event_lescroart.index]"
   ]
  },
  {
   "cell_type": "code",
   "execution_count": 63,
   "metadata": {},
   "outputs": [],
   "source": [
    "reads_chen, mrna_chen, binary_chen, psi_chen = spu.get_dataset_averages(chen_PSI, chen_read_counts, \n",
    "                                                                        chen_mrna_counts, chen_int_exons)\n",
    "\n",
    "# reads_das, mrna_das, binary_das, psi_das = spu.get_dataset_averages(das_PSI, das_read_counts, \n",
    "#                                                                         das_mrna_counts, das_int_exons)\n",
    "\n",
    "# reads_lescroart, mrna_lescroart, binary_lescroart, psi_lescroart = spu.get_dataset_averages(lescroart_PSI, \n",
    "#                                                                                             lescroart_read_counts, \n",
    "#                                                                                             lescroart_mrna_counts, \n",
    "#                                                                                              lescroart_int_exons)"
   ]
  },
  {
   "cell_type": "code",
   "execution_count": 64,
   "metadata": {},
   "outputs": [],
   "source": [
    "# scp.plot_information_map2(mrna_chen, reads_chen, binary_chen, crpm_chen, 'Chen', \n",
    "#                          [0, np.log10(2), np.log10(11), np.log10(101), np.log10(1001)],\n",
    "#                          ['0', '1', '10', '100', '1000'],\n",
    "#                            [0, np.log10(2), np.log10(11), np.log10(101), np.log10(1001)],\n",
    "#                          ['0', '1', '10', '100', '1000'],\n",
    "#                          stat = 'median', \n",
    "#                          mrna_min = 10, read_min = (10*chen_c).mean(), save_name = 'chen_binary_median_new',\n",
    "#                          plot_dir = 'plots/figure3/')\n",
    "\n",
    "\n",
    "# scp.plot_information_map2(mrna_lescroart, reads_lescroart, binary_lescroart, \n",
    "#                          crpm_lescroart, 'Lescroart', \n",
    "#                           [0, np.log10(2), np.log10(11), np.log10(101), np.log10(1001)],\n",
    "#                          ['0', '1', '10', '100', '1000'],\n",
    "#                            [0, np.log10(2), np.log10(11), np.log10(101), np.log10(1001)],\n",
    "#                          ['0', '1', '10', '100', '1000'],\n",
    "#                          stat = 'median', save_name = 'lescroart_binary_median_new', mrna_min = 10, \n",
    "#                          read_min=(10*lescroart_c).mean(), plot_dir = 'plots/figure3/')\n",
    "\n",
    "# scp.plot_information_map2(mrna_das, reads_das, binary_das, crpm_das, 'Fletcher', \n",
    "#                          [0, np.log10(2), np.log10(11), np.log10(101), np.log10(1001)],\n",
    "#                          ['0', '1', '10', '100', '1000'],\n",
    "#                            [0, np.log10(2), np.log10(11), np.log10(101), np.log10(1001)],\n",
    "#                          ['0', '1', '10', '100', '1000'],\n",
    "#                          stat = 'median', \n",
    "#                          mrna_min = 10, read_min = (10*chen_c).mean(), save_name = 'das_binary_median_new',\n",
    "#                          plot_dir = 'plots/figure3/')"
   ]
  },
  {
   "cell_type": "code",
   "execution_count": 70,
   "metadata": {},
   "outputs": [],
   "source": [
    "chen_int = [x for x in chen_int_exons if x in mrna_per_event_chen.index]\n",
    "# lescroart_int = [x for x in lescroart_int_exons if x in mrna_per_event_lescroart.index]\n",
    "\n",
    "chen_coverage_tab = pd.read_csv('../../../data/chen/processed_tables/chen.read_coverage.tab', \n",
    "                          sep='\\t', index_col=0)\n",
    "\n",
    "chen_c = chen_coverage_tab['SJ_coverage']\n",
    "\n",
    "chen_filter = (chen_read_counts.loc[chen_int, chen_c.index] >= (10*chen_c*(1+chen_PSI.loc[chen_int, chen_c.index])))\n",
    "chen_mrna_filter = (mrna_per_event_chen.loc[chen_int, chen_c.index] >= 10)\n",
    "chen_quality = ((chen_mrna_filter & chen_filter).mean(axis=1) >= 0.5)\n",
    "chen_good_exons = chen_quality.loc[chen_quality].index\n",
    "\n",
    "# lescroart_filter = (lescroart_read_counts.loc[lescroart_int, \n",
    "#                                               lescroart_c.index] >= (10*lescroart_c*(1+lescroart_PSI.loc[lescroart_int, \n",
    "#                                                                                                          lescroart_c.index])))\n",
    "# lescroart_mrna_filter = (mrna_per_event_lescroart.loc[lescroart_int, lescroart_c.index] >= 10)\n",
    "# lescroart_quality = ((lescroart_mrna_filter & lescroart_filter).mean(axis=1) >= 0.5)\n",
    "# lescroart_good_exons = lescroart_quality.loc[lescroart_quality].index"
   ]
  },
  {
   "cell_type": "code",
   "execution_count": 71,
   "metadata": {},
   "outputs": [],
   "source": [
    "chen_filter_both = (chen_filter.loc[chen_good_exons] & chen_mrna_filter.loc[chen_good_exons])\n",
    "# lescroart_filter_both = (lescroart_filter.loc[lescroart_good_exons] & lescroart_mrna_filter.loc[lescroart_good_exons])\n",
    "\n",
    "mrna_per_event_chen_f = mrna_per_event_chen.loc[chen_good_exons].mask(~chen_filter_both)\n",
    "chen_read_counts_f = chen_read_counts.loc[chen_good_exons].mask(~chen_filter_both)\n",
    "chen_PSI_f = chen_PSI.loc[chen_good_exons].mask(~chen_filter_both)\n",
    "\n",
    "# mrna_per_event_lescroart_f = mrna_per_event_lescroart.loc[lescroart_good_exons].mask(~lescroart_filter_both)\n",
    "# lescroart_read_counts_f = lescroart_read_counts.loc[lescroart_good_exons].mask(~lescroart_filter_both)\n",
    "# lescroart_PSI_f = lescroart_PSI.loc[lescroart_good_exons].mask(~lescroart_filter_both)\n",
    "\n",
    "\n",
    "\n",
    "chen_filtered_binary = ((chen_PSI_f == 1) | (chen_PSI_f == 0)).sum(axis=1) / (~chen_PSI_f.isnull()).sum(axis=1)\n",
    "chen_filtered_mrna_counts = mrna_per_event_chen_f.mean(axis=1)\n",
    "chen_filtered_read_counts = chen_read_counts_f.mean(axis=1)\n",
    "\n",
    "# lescroart_filtered_binary = ((lescroart_PSI_f == 1) | (lescroart_PSI_f == 0)).sum(axis=1) / (~lescroart_PSI_f.isnull()).sum(axis=1)\n",
    "# lescroart_filtered_mrna_counts = mrna_per_event_lescroart_f.mean(axis=1)\n",
    "# lescroart_filtered_read_counts = lescroart_read_counts_f.mean(axis=1)\n",
    "\n"
   ]
  },
  {
   "cell_type": "code",
   "execution_count": 73,
   "metadata": {},
   "outputs": [],
   "source": [
    "chen_PSI_f.to_csv('../../../data/chen/processed_tables/new_annotation/chen.filtered_psi.tab', \n",
    "                  sep='\\t', index=True, header=True)"
   ]
  },
  {
   "cell_type": "code",
   "execution_count": 75,
   "metadata": {},
   "outputs": [
    {
     "data": {
      "text/plain": [
       "0610010K14Rik_2           35\n",
       "0610010K14Rik_3            8\n",
       "0610010K14Rik_4            4\n",
       "2610318N02Rik_1           76\n",
       "A430005L14Rik_nmdSE_1     26\n",
       "Alkbh7_1                  31\n",
       "Anapc16_2                 12\n",
       "Anapc16_4                 23\n",
       "Aspscr1_2                 25\n",
       "Atp5j_1                    0\n",
       "Atp6v1h_2                 31\n",
       "Atrx_3                    52\n",
       "Bclaf1_1                  25\n",
       "Bclaf1_nmdSE_2            38\n",
       "Cdk4_1                     2\n",
       "Cenpa_nmdSE_1             55\n",
       "Cenpa_nmdSE_2             21\n",
       "Cenpm_1                   46\n",
       "Chchd3_1                  31\n",
       "Chmp2a_2                   2\n",
       "Chmp2a_3                   7\n",
       "Chtop_1                   36\n",
       "Churc1_1                  14\n",
       "Cib1_1                    35\n",
       "Clk1_1                    45\n",
       "Clk1_2                    61\n",
       "Clta_2                     0\n",
       "Cmc2_1                    36\n",
       "Cmc2_2                    38\n",
       "Csde1_4                   35\n",
       "                        ... \n",
       "Thyn1_1                   14\n",
       "Timm22_1                   9\n",
       "Tk1_2                     52\n",
       "Tm2d3_1                   60\n",
       "Tm2d3_3                   60\n",
       "Tmem11_1                  22\n",
       "Tmem234_1                 14\n",
       "Tmem234_2                 17\n",
       "Tmem234_nmdSE_1           77\n",
       "Tmem234_nmdSE_2           59\n",
       "Tor1aip2_1                57\n",
       "Tpd52l2_3                  9\n",
       "Tpd52l2_4                 42\n",
       "Tpd52l2_5                 10\n",
       "Tpt1_1                    11\n",
       "Tsr2_1                    43\n",
       "U2af1l4_5                 38\n",
       "U2surp_2                  12\n",
       "U2surp_3                  19\n",
       "Uba3_1                    45\n",
       "Ubap2l_2                  42\n",
       "Ube2i_1                   68\n",
       "Ube2i_2                   65\n",
       "Uchl5_nmdSE_1             39\n",
       "Vps29_1                    3\n",
       "Vta1_1                     6\n",
       "Wbp2_1                    25\n",
       "Wfdc2_1                  107\n",
       "Xpnpep1_1                 32\n",
       "Zfp207_2                   7\n",
       "Length: 187, dtype: int64"
      ]
     },
     "execution_count": 75,
     "metadata": {},
     "output_type": "execute_result"
    }
   ],
   "source": [
    "chen_PSI.loc[chen_PSI_f.index].isna().sum(axis=1)"
   ]
  },
  {
   "cell_type": "code",
   "execution_count": 74,
   "metadata": {},
   "outputs": [
    {
     "data": {
      "text/plain": [
       "0610010K14Rik_2          192\n",
       "0610010K14Rik_3           70\n",
       "0610010K14Rik_4           54\n",
       "2610318N02Rik_1          243\n",
       "A430005L14Rik_nmdSE_1    198\n",
       "Alkbh7_1                 180\n",
       "Anapc16_2                116\n",
       "Anapc16_4                138\n",
       "Aspscr1_2                163\n",
       "Atp5j_1                    0\n",
       "Atp6v1h_2                241\n",
       "Atrx_3                   239\n",
       "Bclaf1_1                 224\n",
       "Bclaf1_nmdSE_2           219\n",
       "Cdk4_1                     7\n",
       "Cenpa_nmdSE_1            102\n",
       "Cenpa_nmdSE_2             55\n",
       "Cenpm_1                  172\n",
       "Chchd3_1                 126\n",
       "Chmp2a_2                  44\n",
       "Chmp2a_3                  98\n",
       "Chtop_1                  180\n",
       "Churc1_1                  84\n",
       "Cib1_1                   212\n",
       "Clk1_1                   220\n",
       "Clk1_2                   244\n",
       "Clta_2                     1\n",
       "Cmc2_1                   199\n",
       "Cmc2_2                   198\n",
       "Csde1_4                  197\n",
       "                        ... \n",
       "Thyn1_1                   78\n",
       "Timm22_1                  91\n",
       "Tk1_2                    165\n",
       "Tm2d3_1                  226\n",
       "Tm2d3_3                  227\n",
       "Tmem11_1                 109\n",
       "Tmem234_1                108\n",
       "Tmem234_2                165\n",
       "Tmem234_nmdSE_1          232\n",
       "Tmem234_nmdSE_2          198\n",
       "Tor1aip2_1               244\n",
       "Tpd52l2_3                 43\n",
       "Tpd52l2_4                176\n",
       "Tpd52l2_5                 58\n",
       "Tpt1_1                   171\n",
       "Tsr2_1                   200\n",
       "U2af1l4_5                175\n",
       "U2surp_2                 100\n",
       "U2surp_3                 161\n",
       "Uba3_1                   238\n",
       "Ubap2l_2                 240\n",
       "Ube2i_1                  234\n",
       "Ube2i_2                  232\n",
       "Uchl5_nmdSE_1            170\n",
       "Vps29_1                   11\n",
       "Vta1_1                   103\n",
       "Wbp2_1                   164\n",
       "Wfdc2_1                  195\n",
       "Xpnpep1_1                170\n",
       "Zfp207_2                  41\n",
       "Length: 187, dtype: int64"
      ]
     },
     "execution_count": 74,
     "metadata": {},
     "output_type": "execute_result"
    }
   ],
   "source": [
    "chen_PSI_f.isna().sum(axis=1)"
   ]
  },
  {
   "cell_type": "code",
   "execution_count": 74,
   "metadata": {},
   "outputs": [
    {
     "data": {
      "text/plain": [
       "['Thyn1_1']"
      ]
     },
     "execution_count": 74,
     "metadata": {},
     "output_type": "execute_result"
    }
   ],
   "source": [
    "[x for x in chen_PSI_f.index if 'Thyn1' in x]"
   ]
  },
  {
   "cell_type": "code",
   "execution_count": 69,
   "metadata": {},
   "outputs": [
    {
     "data": {
      "text/plain": [
       "True"
      ]
     },
     "execution_count": 69,
     "metadata": {},
     "output_type": "execute_result"
    }
   ],
   "source": [
    "'Rpn2_2' in chen_PSI_f.index"
   ]
  },
  {
   "cell_type": "code",
   "execution_count": 67,
   "metadata": {},
   "outputs": [
    {
     "data": {
      "text/plain": [
       "0.0749472895425775"
      ]
     },
     "execution_count": 67,
     "metadata": {},
     "output_type": "execute_result"
    }
   ],
   "source": [
    "chen_PSI.loc['Rpn2_2'].mean()"
   ]
  },
  {
   "cell_type": "code",
   "execution_count": 69,
   "metadata": {},
   "outputs": [
    {
     "data": {
      "text/plain": [
       "0.07545864610388994"
      ]
     },
     "execution_count": 69,
     "metadata": {},
     "output_type": "execute_result"
    }
   ],
   "source": [
    "chen_PSI.loc['Rpn2_2'].mean()"
   ]
  },
  {
   "cell_type": "code",
   "execution_count": 68,
   "metadata": {},
   "outputs": [
    {
     "data": {
      "text/plain": [
       "SRR2727045    19.302365\n",
       "SRR2727046    46.823212\n",
       "SRR2727047    25.887143\n",
       "SRR2727048    23.405343\n",
       "SRR2727049    25.640444\n",
       "SRR2727050    37.216140\n",
       "SRR2727051    16.935235\n",
       "SRR2727052    29.004852\n",
       "SRR2727053    37.700423\n",
       "SRR2727054    48.495573\n",
       "SRR2727055    28.267947\n",
       "SRR2727056    11.352869\n",
       "SRR2727057    23.891358\n",
       "SRR2727058    37.384008\n",
       "SRR2727059    41.899939\n",
       "SRR2727060    32.957239\n",
       "SRR2727061    20.303634\n",
       "SRR2727062    25.797821\n",
       "SRR2727063    26.239070\n",
       "SRR2727064    42.346436\n",
       "SRR2727065    31.354758\n",
       "SRR2727066    25.762135\n",
       "SRR2727067    22.862181\n",
       "SRR2727068    28.071262\n",
       "SRR2727069    28.308586\n",
       "SRR2727070    22.903542\n",
       "SRR2727071    39.426653\n",
       "SRR2727072    67.002106\n",
       "SRR2727073    29.672616\n",
       "SRR2727074    47.201610\n",
       "                ...    \n",
       "SRR2727462    31.056658\n",
       "SRR2727463    15.868738\n",
       "SRR2727464    33.688544\n",
       "SRR2727465    23.865724\n",
       "SRR2727466    11.948310\n",
       "SRR2727467    12.839297\n",
       "SRR2727468    30.715893\n",
       "SRR2727469     5.165134\n",
       "SRR2727470     0.416663\n",
       "SRR2727471    19.888611\n",
       "SRR2727472    15.152377\n",
       "SRR2727473    35.005571\n",
       "SRR2727474    18.636602\n",
       "SRR2727475    17.672284\n",
       "SRR2727476    30.381516\n",
       "SRR2727477    39.924630\n",
       "SRR2727478    35.332768\n",
       "SRR2727479     3.983578\n",
       "SRR2727480    28.760674\n",
       "SRR2727481    55.699823\n",
       "SRR2727482    19.006647\n",
       "SRR2727483    12.965310\n",
       "SRR2727484    12.044800\n",
       "SRR2727485     9.853002\n",
       "SRR2727486    13.161531\n",
       "SRR2727487    21.167127\n",
       "SRR2727488    25.155626\n",
       "SRR2727489     9.941312\n",
       "SRR2727490    40.671334\n",
       "SRR2727491    22.677331\n",
       "Name: Rpn2, Length: 488, dtype: float64"
      ]
     },
     "execution_count": 68,
     "metadata": {},
     "output_type": "execute_result"
    }
   ],
   "source": [
    "chen_mrna_counts.loc['Rpn2']"
   ]
  },
  {
   "cell_type": "code",
   "execution_count": 47,
   "metadata": {},
   "outputs": [],
   "source": [
    "chen_int_genes, chen_int_exons = spu.get_int_events(chen_PSI, chen_mrna_counts, 0.05)\n"
   ]
  },
  {
   "cell_type": "code",
   "execution_count": 51,
   "metadata": {},
   "outputs": [
    {
     "data": {
      "text/plain": [
       "True"
      ]
     },
     "execution_count": 51,
     "metadata": {},
     "output_type": "execute_result"
    }
   ],
   "source": [
    "'Rpn2_1' in mrna_per_event_chen.index"
   ]
  },
  {
   "cell_type": "code",
   "execution_count": 85,
   "metadata": {},
   "outputs": [
    {
     "data": {
      "text/plain": [
       "19"
      ]
     },
     "execution_count": 85,
     "metadata": {},
     "output_type": "execute_result"
    }
   ],
   "source": [
    "len([x for x in lescroart_PSI_f.index if x not in chen_PSI_f.index])"
   ]
  },
  {
   "cell_type": "code",
   "execution_count": 82,
   "metadata": {},
   "outputs": [],
   "source": [
    "events_list = sorted(set(list(lescroart_PSI_f.index) + list(chen_PSI_f.index)))"
   ]
  },
  {
   "cell_type": "code",
   "execution_count": 84,
   "metadata": {},
   "outputs": [],
   "source": [
    "fh = open('Event_list.txt', 'w')\n",
    "for event in events_list:\n",
    "    fh.write(event + '\\n')\n",
    "    \n",
    "fh.close()"
   ]
  },
  {
   "cell_type": "code",
   "execution_count": null,
   "metadata": {},
   "outputs": [],
   "source": [
    "# Unique mapping # Running; pending\n",
    "# Shalek et all to all plots... #pending\n",
    "# Constitutive junctions # pending\n",
    "# Bimodal events # Pending\n",
    "# Local bimodality thing (clusters in pseudotime)\n",
    "# nearest friend\n",
    "# New metric to test filter"
   ]
  }
 ],
 "metadata": {
  "kernelspec": {
   "display_name": "Python 3",
   "language": "python",
   "name": "python3"
  },
  "language_info": {
   "codemirror_mode": {
    "name": "ipython",
    "version": 3
   },
   "file_extension": ".py",
   "mimetype": "text/x-python",
   "name": "python",
   "nbconvert_exporter": "python",
   "pygments_lexer": "ipython3",
   "version": "3.6.7"
  }
 },
 "nbformat": 4,
 "nbformat_minor": 2
}
